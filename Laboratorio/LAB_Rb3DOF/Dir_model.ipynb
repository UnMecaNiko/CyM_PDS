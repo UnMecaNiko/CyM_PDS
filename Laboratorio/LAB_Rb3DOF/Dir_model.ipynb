{
 "cells": [
  {
   "cell_type": "markdown",
   "metadata": {},
   "source": [
    "Importando librerias necesarias.\n"
   ]
  },
  {
   "cell_type": "markdown",
   "metadata": {},
   "source": [
    "numpy: Librería para manejo de arreglos y matrices.\n"
   ]
  },
  {
   "cell_type": "markdown",
   "metadata": {},
   "source": [
    "math: librería de matemáticas."
   ]
  },
  {
   "cell_type": "code",
   "execution_count": 19,
   "metadata": {},
   "outputs": [],
   "source": [
    "import numpy as np\n",
    "import math"
   ]
  },
  {
   "cell_type": "markdown",
   "metadata": {},
   "source": [
    "Definiendo parámetros del robot (geomtría).\n"
   ]
  },
  {
   "cell_type": "markdown",
   "metadata": {},
   "source": [
    "Longitudes de los eslabones (a).\n"
   ]
  },
  {
   "cell_type": "markdown",
   "metadata": {},
   "source": [
    "Ángulos de las artculaciones (T) en radianes.\n"
   ]
  },
  {
   "cell_type": "markdown",
   "metadata": {},
   "source": [
    "Este último es el que se debe modificar para cambiar la posición del robot"
   ]
  },
  {
   "cell_type": "code",
   "execution_count": 20,
   "metadata": {},
   "outputs": [],
   "source": [
    "a = np.array([0.0, 10.0, 10.0])\n",
    "T = np.array([0.0, 0.0, 0.0])"
   ]
  },
  {
   "cell_type": "markdown",
   "metadata": {},
   "source": [
    "Creando las matrices de transformación entre articulaciones"
   ]
  },
  {
   "cell_type": "code",
   "execution_count": 21,
   "metadata": {},
   "outputs": [],
   "source": [
    "A01 = np.array([[math.cos(T[0]), 0, math.sin(T[0]), 0], \n",
    "                [math.sin(T[0]), 0, -math.cos(T[0]), 0 ],\n",
    "                [0, 1, 0, 0],\n",
    "                [0, 0, 0, 1]])\n",
    "\n",
    "A12 = np.array([[math.cos(T[1]), -math.sin(T[1]), 0, a[1]*math.cos(T[1])],\n",
    "                [math.sin(T[1]), math.cos(T[1]), 0, a[1]*math.sin(T[1])],\n",
    "                [0, 0, 1, 0],\n",
    "                [0, 0, 0, 1]])\n",
    "\n",
    "A23 = np.array([[math.cos(T[2]), -math.sin(T[2]), 0, a[2]*math.cos(T[2])],\n",
    "                [math.sin(T[2]), math.cos(T[2]), 0, a[2]*math.sin(T[2])],\n",
    "                [0, 0, 1, 0],\n",
    "                [0, 0, 0, 1]])"
   ]
  },
  {
   "cell_type": "markdown",
   "metadata": {},
   "source": [
    "Obteniendo la matriz total del robot\n",
    "y a partir de ella la posición del efector final"
   ]
  },
  {
   "cell_type": "code",
   "execution_count": 22,
   "metadata": {},
   "outputs": [
    {
     "name": "stdout",
     "output_type": "stream",
     "text": [
      "Posición del efector final: \n",
      "X: 20.0\n",
      "Y: 0.0\n",
      "Z: 0.0\n"
     ]
    }
   ],
   "source": [
    "A03 = np.matmul(np.matmul(A01,A12),A23)\n",
    "print('Posición del efector final: ')\n",
    "print('X: ' + str(A03[0,3]))\n",
    "print('Y: ' + str(A03[1,3]))\n",
    "print('Z: ' + str(A03[2,3]))"
   ]
  }
 ],
 "metadata": {
  "kernelspec": {
   "display_name": "Python 3.8.10 ('Robot_model': venv)",
   "language": "python",
   "name": "python3"
  },
  "language_info": {
   "codemirror_mode": {
    "name": "ipython",
    "version": 3
   },
   "file_extension": ".py",
   "mimetype": "text/x-python",
   "name": "python",
   "nbconvert_exporter": "python",
   "pygments_lexer": "ipython3",
   "version": "3.8.10"
  },
  "orig_nbformat": 4,
  "vscode": {
   "interpreter": {
    "hash": "3978aee8086583b7a213f648de97245f14d0409952d001d1e827aed62852ee12"
   }
  }
 },
 "nbformat": 4,
 "nbformat_minor": 2
}
